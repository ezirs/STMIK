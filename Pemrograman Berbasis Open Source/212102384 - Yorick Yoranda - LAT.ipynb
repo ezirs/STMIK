{
 "cells": [
  {
   "cell_type": "code",
   "execution_count": 8,
   "id": "e36550cc",
   "metadata": {},
   "outputs": [
    {
     "name": "stdout",
     "output_type": "stream",
     "text": [
      "Masukkan nilai : 1.5\n",
      "-7.261387212474169\n"
     ]
    }
   ],
   "source": [
    "# Soal 1\n",
    "import math\n",
    "def pangkat(a, b):\n",
    "    if b == 1:\n",
    "        return a\n",
    "    else:\n",
    "        return a * pangkat(a, b - 1)\n",
    "    \n",
    "def nilaiFungsi(x):\n",
    "    hasil = \"\"\n",
    "    x = str(x)\n",
    "    if x == \"x\":\n",
    "        hasil = \"F(x)\"\n",
    "        return hasil\n",
    "    x = float(x)\n",
    "    if x <= 1:\n",
    "        a = pangkat(x, 3)\n",
    "        hasil = a - (2 * x) + 1\n",
    "    elif x >= 2:\n",
    "        hasil = (1 / (3 * x) + 2)\n",
    "    elif x > 1 and x < 2:\n",
    "        hasil = math.sqrt(5 * x) - 10\n",
    "\n",
    "    return hasil\n",
    "\n",
    "nilai = input(\"Masukkan nilai : \")\n",
    "print(nilaiFungsi(nilai))"
   ]
  },
  {
   "cell_type": "code",
   "execution_count": 9,
   "id": "d6df5ae1",
   "metadata": {},
   "outputs": [
    {
     "name": "stdout",
     "output_type": "stream",
     "text": [
      "Gaji = [5, 8, 9, 10, 20, 6, 5]\n",
      "Output (Function) = [4.75, 7.6, 8.55, 9.5, 19.0, 5.7, 4.75]\n",
      "Output (Lambda) = [4.75, 7.6, 8.55, 9.5, 19.0, 5.7, 4.75]\n"
     ]
    }
   ],
   "source": [
    "# Soal 2\n",
    "gaji = [5, 8, 9, 10, 20, 6, 5]\n",
    "output_function = list()\n",
    "output_lambda = list()\n",
    "\n",
    "def F_gajiBersi(g):\n",
    "    pajak = (g * 5) / 100\n",
    "    g = g - pajak\n",
    "    return g\n",
    "\n",
    "L_gajiBersi = lambda g : g - ((g * 5) / 100)\n",
    "\n",
    "i = 0\n",
    "while i <= (len(gaji) - 1):\n",
    "    output_function.append(F_gajiBersi(gaji[i]))\n",
    "    output_lambda.append(L_gajiBersi(gaji[i]))\n",
    "    i += 1\n",
    "\n",
    "\n",
    "\n",
    "print(\"Gaji = %s\" % gaji)   \n",
    "print(\"Output (Function) = %s\" % output_function)\n",
    "print(\"Output (Lambda) = %s\" % output_lambda)"
   ]
  },
  {
   "cell_type": "code",
   "execution_count": null,
   "id": "7fb9d8ae",
   "metadata": {
    "scrolled": true
   },
   "outputs": [],
   "source": [
    "# Soal 3\n",
    "import konversi\n",
    "print(konversi.celtofah(20))\n",
    "print(konversi.keltocel(300))\n",
    "print(konversi.keltofah(300))"
   ]
  },
  {
   "cell_type": "code",
   "execution_count": 1,
   "id": "ac3e14dd",
   "metadata": {},
   "outputs": [
    {
     "name": "stdout",
     "output_type": "stream",
     "text": [
      "Hasil permutasi : 6.0 \n",
      "Hasil kombinasi : 3.0 \n"
     ]
    }
   ],
   "source": [
    "# Soal 4\n",
    "def faktorial(n):\n",
    "    if n == 1:\n",
    "        return 1\n",
    "    else:\n",
    "        return n * faktorial(n - 1)\n",
    "\n",
    "def permutasi(n, r):\n",
    "    a = faktorial(n)\n",
    "    b = faktorial(n - r)\n",
    "    hasil = a / b\n",
    "    return hasil\n",
    "    \n",
    "def kombinasi(n, r):\n",
    "    a = faktorial(n)\n",
    "    b = faktorial(r)\n",
    "    c = faktorial(n - r)\n",
    "    hasil = a / (b * c)\n",
    "    return hasil\n",
    "    \n",
    "print(\"Hasil permutasi : %s \" % permutasi(3, 2))\n",
    "print(\"Hasil kombinasi : %s \" % kombinasi(3, 2))"
   ]
  },
  {
   "cell_type": "code",
   "execution_count": null,
   "id": "63bee0a7",
   "metadata": {},
   "outputs": [],
   "source": []
  }
 ],
 "metadata": {
  "kernelspec": {
   "display_name": "Python 3 (ipykernel)",
   "language": "python",
   "name": "python3"
  },
  "language_info": {
   "codemirror_mode": {
    "name": "ipython",
    "version": 3
   },
   "file_extension": ".py",
   "mimetype": "text/x-python",
   "name": "python",
   "nbconvert_exporter": "python",
   "pygments_lexer": "ipython3",
   "version": "3.9.12"
  }
 },
 "nbformat": 4,
 "nbformat_minor": 5
}
