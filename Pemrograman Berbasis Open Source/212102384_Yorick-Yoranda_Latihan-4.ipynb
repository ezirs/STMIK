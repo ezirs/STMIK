{
 "cells": [
  {
   "cell_type": "raw",
   "id": "c4cd7afc",
   "metadata": {},
   "source": [
    "Soal 1\n",
    "var1 = [1, 2, 3, 4]\n",
    "Print tipe dari var1\n",
    "Print panjang dari var1"
   ]
  },
  {
   "cell_type": "code",
   "execution_count": null,
   "id": "bb16fdc4",
   "metadata": {},
   "outputs": [],
   "source": [
    "var1 = [1, 2, 3, 4]\n",
    "print(type(var1))\n",
    "print(len(var1))"
   ]
  },
  {
   "cell_type": "raw",
   "id": "42110ad0",
   "metadata": {},
   "source": [
    "Soal 2\n",
    "first = [11.25, 18.0, 20.0]\n",
    "second = [10.75, 9.50]\n",
    "Gabungkan list first dengan second simpan dengan nama variabel full, print variabel full\n",
    "Urutkan full dengan descending order simpan pada variabel full_sorted, print full_sorted"
   ]
  },
  {
   "cell_type": "code",
   "execution_count": 1,
   "id": "e00828de",
   "metadata": {},
   "outputs": [
    {
     "name": "stdout",
     "output_type": "stream",
     "text": [
      "[11.25, 18.0, 20.0, 10.75, 9.5]\n",
      "[9.5, 10.75, 11.25, 18.0, 20.0]\n"
     ]
    }
   ],
   "source": [
    "first = [11.25, 18.0, 20.0]\n",
    "second = [10.75, 9.50]\n",
    "full = first + second\n",
    "print(full)\n",
    "full_sorted = sorted(full)\n",
    "print(full_sorted)"
   ]
  },
  {
   "cell_type": "raw",
   "id": "7e64a275",
   "metadata": {},
   "source": [
    "Soal 3\n",
    "area = [11.25, 18.0, 20.0, 10.75, 9.50]\n",
    "Print hasilnya dengan menggunakan index() untuk mencari index dari 20.0\n",
    "Print hasilnya dengan menggunakan count() berapa sering 14.5 muncul di area\n",
    "Gunakan append dua kali untuk menambahkan 24.5 dan 15.45, print area\n",
    "Balik urutan area dengan reverse(), print area"
   ]
  },
  {
   "cell_type": "code",
   "execution_count": null,
   "id": "1352cebc",
   "metadata": {},
   "outputs": [],
   "source": [
    "area = [11.25, 18.0, 20.0, 10.75, 9.50]\n",
    "print(area.index(20.0))\n",
    "print(area.count(14.5))\n",
    "area.append(24.5)\n",
    "area.append(15.45)\n",
    "print(area)\n",
    "area.reverse()\n",
    "print(area)"
   ]
  },
  {
   "cell_type": "raw",
   "id": "43a16722",
   "metadata": {},
   "source": [
    "Soal 4\n",
    "area_3 = [\"hallway\", 11.25, \"kitchen\", 18.0, \"chill zone\", 20.0, \"bedroom\", 10.75, \"bathroom\", 10.50, \"poolhouse\", 24.5, \"garage\", 15.45]\n",
    "Silahkan hapus 4 elemen terakhir, print area_3"
   ]
  },
  {
   "cell_type": "code",
   "execution_count": null,
   "id": "62d0197f",
   "metadata": {},
   "outputs": [],
   "source": [
    "area_3 = [\"hallway\", 11.25, \"kitchen\", 18.0, \"chill zone\", 20.0, \"bedroom\", 10.75, \"bathroom\", 10.50, \"poolhouse\", 24.5, \"garage\", 15.45]\n",
    "i = 1\n",
    "n = 4\n",
    "while i <= n:\n",
    "    l = len(area_3)\n",
    "    idx = l - 1\n",
    "    del area_3[idx]\n",
    "    i += 1\n",
    "print(area_3)"
   ]
  },
  {
   "cell_type": "raw",
   "id": "243efa85",
   "metadata": {},
   "source": [
    "Soal 5\n",
    "area_4 = [\"hallway\", 11.25, \"kitchen\", 18.0, \"living room\", 20.0, \"bedroom\", 10.75, \"bathroom\", 9.50]\n",
    "Ganti nilai dari \"bathroom\" menjadi 10.8, print area_4\n",
    "Ganti \"living room\" menjadi \"ruang tamu\", print area_4"
   ]
  },
  {
   "cell_type": "raw",
   "id": "cd40a2a8",
   "metadata": {},
   "source": [
    "Soal 5\n",
    "area_4 = [\"hallway\", 11.25, \"kitchen\", 18.0, \"living room\", 20.0, \"bedroom\", 10.75, \"bathroom\", 9.50]\n",
    "Ganti nilai dari \"bathroom\" menjadi 10.8, print area_4\n",
    "Ganti \"living room\" menjadi \"ruang tamu\", print area_4"
   ]
  },
  {
   "cell_type": "code",
   "execution_count": null,
   "id": "534132ee",
   "metadata": {},
   "outputs": [],
   "source": [
    "area_4 = [\"hallway\", 11.25, \"kitchen\", 18.0, \"living room\", 20.0, \"bedroom\", 10.75, \"bathroom\", 9.50]\n",
    "print(area_4)\n",
    "\n",
    "getIndex = area_4.index('bathroom')\n",
    "area_4[getIndex] = 10.8\n",
    "print(area_4)\n",
    "\n",
    "getIndex = area_4.index('living room')\n",
    "area_4[getIndex] = 'ruang tamu'\n",
    "print(area_4)\n",
    "\n"
   ]
  },
  {
   "cell_type": "raw",
   "id": "52b66867",
   "metadata": {},
   "source": [
    "Soal 6\n",
    "Data = [12,23,21,90,89,73,79,64,82,56,90,99,23,33,23]\n",
    "Dengan menggunakan multiple Input dan disimpan ke dalam List Data.\n",
    "Tentukan Nilai Mean, Median dan Modus dari List Data tersebut\n",
    "Tentukan Hasil Sort data tersebut secara Descending."
   ]
  },
  {
   "cell_type": "code",
   "execution_count": 2,
   "id": "ba2370f9",
   "metadata": {},
   "outputs": [
    {
     "name": "stdout",
     "output_type": "stream",
     "text": [
      "Mean :  57.13333333333333\n",
      "Median : 64\n",
      "Modus : 23\n"
     ]
    }
   ],
   "source": [
    "import statistics\n",
    "Data = [12,23,21,90,89,73,79,64,82,56,90,99,23,33,23]\n",
    "\n",
    "print(\"Mean : \", statistics.mean(Data))\n",
    "\n",
    "Data.sort()\n",
    "    \n",
    "print(\"Median :\", statistics.median(Data))\n",
    "\n",
    "print(\"Modus :\", statistics.mode(Data))\n",
    "    "
   ]
  },
  {
   "cell_type": "raw",
   "id": "4069945e",
   "metadata": {},
   "source": [
    "Soal 7\n",
    "Dengan menggunakan fungsi/method Built-in dari Tipe String, tentukan apakah kata yang diinputkan adalah sebuah Polindrom atau bukan !\n",
    "Contoh :\n",
    "“KATAK” merupakan Polindrom\n",
    "“MAKAN” bukan Polindrom"
   ]
  },
  {
   "cell_type": "code",
   "execution_count": null,
   "id": "3a76cc3d",
   "metadata": {},
   "outputs": [],
   "source": [
    "kata = \"katak\"\n",
    "tampung = \"\"\n",
    "listKata = list(kata)\n",
    "jKata = len(kata)\n",
    "jKata = jKata - 1\n",
    "while jKata >= 0:\n",
    "    tampung = tampung + listKata[jKata]\n",
    "    jKata -= 1\n",
    "if kata == tampung:\n",
    "    print(kata, \"is palindrome\");\n",
    "else:\n",
    "    print(kata, \"is not palindrome\")"
   ]
  },
  {
   "cell_type": "raw",
   "id": "7ebd7e5a",
   "metadata": {},
   "source": [
    "Soal 1\n",
    "Balikkan tuple berikut:\n",
    "A = (10, 20, 30, 40, 50)\n",
    "Contoh Hasil:\n",
    "(50, 40, 30, 20, 10)"
   ]
  },
  {
   "cell_type": "code",
   "execution_count": 3,
   "id": "15f8096a",
   "metadata": {},
   "outputs": [
    {
     "name": "stdout",
     "output_type": "stream",
     "text": [
      "(50, 40, 30, 20, 10)\n"
     ]
    }
   ],
   "source": [
    "A = (10, 20, 30, 40, 50)\n",
    "A = list(A)\n",
    "A.reverse()\n",
    "A = tuple(A)\n",
    "print(A)"
   ]
  },
  {
   "cell_type": "raw",
   "id": "e662dd72",
   "metadata": {},
   "source": [
    "Soal 2\n",
    "Akses nilai 20 dari tuple berikut:\n",
    "A = (\"Orange\", [10, 20, 30], (5, 15, 25))\n",
    "Contoh Hasil:\n",
    "20"
   ]
  },
  {
   "cell_type": "code",
   "execution_count": null,
   "id": "f2f82a7f",
   "metadata": {},
   "outputs": [],
   "source": [
    "A = (\"Orange\", [10, 20, 30], (5, 15, 25))\n",
    "A = list(A)\n",
    "print(A[1][1])"
   ]
  },
  {
   "cell_type": "raw",
   "id": "c3acf256",
   "metadata": {},
   "source": [
    "Soal 3\n",
    "Unpack tuple berikut menjadi 4 variabel:\n",
    "A = (10, 20, 30, 40)\n",
    "Contoh Hasil:\n",
    "a = 10\n",
    "b = 20\n",
    "c = 30\n",
    "d = 40"
   ]
  },
  {
   "cell_type": "code",
   "execution_count": 1,
   "id": "c50a18b0",
   "metadata": {},
   "outputs": [
    {
     "name": "stdout",
     "output_type": "stream",
     "text": [
      "a  =  10\n",
      "b  =  20\n",
      "c  =  30\n",
      "d  =  40\n"
     ]
    }
   ],
   "source": [
    "A = (10, 20, 30, 40)\n",
    "var = ['a', 'b', 'c', 'd']\n",
    "A = list(A)\n",
    "i = 0\n",
    "while i <= (len(var) - 1):\n",
    "    print(var[i], \" = \", A[i])\n",
    "    i += 1"
   ]
  },
  {
   "cell_type": "raw",
   "id": "96a9e323",
   "metadata": {},
   "source": [
    "Soal 4\n",
    "Tukar dua tuple berikut:\n",
    "tuple1 = (111, 222, 333, 444, 555)\n",
    "tuple2 = (99, 88, 77, 66, 55)\n",
    "Contoh Hasil:\n",
    "tuple1 = (99, 88, 77, 66, 55)\n",
    "tuple2 = (111, 222, 333, 444, 555)"
   ]
  },
  {
   "cell_type": "code",
   "execution_count": 3,
   "id": "6864899b",
   "metadata": {},
   "outputs": [
    {
     "name": "stdout",
     "output_type": "stream",
     "text": [
      "Sebelum\n",
      "Tuple 1 (111, 222, 333, 444, 555)\n",
      "Tuple 2 (99, 88, 77, 66, 55) \n",
      "\n",
      "Sesudah\n",
      "Tuple 1 (99, 88, 77, 66, 55)\n",
      "Tuple 2 (111, 222, 333, 444, 555)\n"
     ]
    }
   ],
   "source": [
    "tuple1 = (111, 222, 333, 444, 555)\n",
    "tuple2 = (99, 88, 77, 66, 55)\n",
    "print(\"Sebelum\")\n",
    "print('Tuple 1', tuple1)\n",
    "print('Tuple 2', tuple2, '\\n')\n",
    "\n",
    "tuple1, tuple2 = tuple2, tuple1\n",
    "\n",
    "print(\"Sesudah\")\n",
    "print('Tuple 1', tuple1)\n",
    "print('Tuple 2', tuple2)"
   ]
  },
  {
   "cell_type": "raw",
   "id": "a9358c81",
   "metadata": {},
   "source": [
    "Soal 5\n",
    "Salin item tuple 44 dan 55 dari tuple berikut ke tuple baru:\n",
    "tuple1 = (11, 22, 33, 44, 55, 66)\n",
    "Contoh Hasil\n",
    "tuple2 = (44, 55)"
   ]
  },
  {
   "cell_type": "code",
   "execution_count": 6,
   "id": "9908d022",
   "metadata": {},
   "outputs": [
    {
     "name": "stdout",
     "output_type": "stream",
     "text": [
      "(44, 55)\n"
     ]
    }
   ],
   "source": [
    "tuple1 = (11, 22, 33, 44, 55, 66)\n",
    "\n",
    "tuple2 = tuple1[3:5]\n",
    "print(tuple2)"
   ]
  },
  {
   "cell_type": "raw",
   "id": "14084244",
   "metadata": {},
   "source": [
    "Soal 6\n",
    "Ubah item tuple pertama (22) dari daftar di dalam tuple berikut menjadi 222:\n",
    "tuple1 = (11, [22, 33], 44, 55)\n",
    "Contoh Hasil:\n",
    "tuple1: (11, [222, 33], 44, 55)"
   ]
  },
  {
   "cell_type": "code",
   "execution_count": 8,
   "id": "51a71846",
   "metadata": {},
   "outputs": [
    {
     "name": "stdout",
     "output_type": "stream",
     "text": [
      "(11, [222, 33], 44, 55)\n"
     ]
    }
   ],
   "source": [
    "tuple1 = (11, [22, 33], 44, 55)\n",
    "tuple1 = list(tuple1)\n",
    "tuple1[1][0] = 222\n",
    "tuple1 = tuple(tuple1)\n",
    "print(tuple1)"
   ]
  },
  {
   "cell_type": "raw",
   "id": "be98de70",
   "metadata": {},
   "source": [
    "Soal 7\n",
    "Urutkan tuple berdasarkan item tuple ke-2\n",
    "tuple1 = (('a', 23),('b', 37),('c', 11), ('d',29))\n",
    "Contoh Hasil:\n",
    "(('c', 11), ('a', 23), ('d', 29), ('b', 37))"
   ]
  },
  {
   "cell_type": "code",
   "execution_count": 39,
   "id": "6a2e69f0",
   "metadata": {},
   "outputs": [
    {
     "name": "stdout",
     "output_type": "stream",
     "text": [
      "(('c', 11), ('a', 23), ('d', 29), ('b', 37))\n"
     ]
    }
   ],
   "source": [
    "tuple1 = (('a', 23),('b', 37),('c', 11), ('d',29))\n",
    "\n",
    "tuple2 = list()\n",
    "tuple2.append(tuple1[2])\n",
    "tuple2.append(tuple1[0])\n",
    "tuple2.append(tuple1[3])\n",
    "tuple2.append(tuple1[1])\n",
    "\n",
    "tuple2 = tuple(tuple2)\n",
    "print(tuple2)"
   ]
  },
  {
   "cell_type": "raw",
   "id": "645616c4",
   "metadata": {},
   "source": [
    "Soal 8\n",
    "Menghitung jumlah kemunculan item 50 dari sebuah tuple \n",
    "tuple1 = (50, 10, 60, 70, 50)\n",
    "Contoh Hasil:\n",
    "2"
   ]
  },
  {
   "cell_type": "code",
   "execution_count": 44,
   "id": "6cc6507f",
   "metadata": {},
   "outputs": [
    {
     "name": "stdout",
     "output_type": "stream",
     "text": [
      "2\n"
     ]
    }
   ],
   "source": [
    "import statistics\n",
    "tuple1 = (50, 10, 60, 70, 50)\n",
    "tuple1 = list(tuple1)\n",
    "i = 0\n",
    "totalMuncul = 0\n",
    "while i <= (len(tuple1) - 1):\n",
    "    if tuple1[i] == 50:\n",
    "        totalMuncul += 1\n",
    "    i += 1\n",
    "print(totalMuncul)"
   ]
  },
  {
   "cell_type": "raw",
   "id": "6bb7a961",
   "metadata": {},
   "source": [
    "Soal 9\n",
    "Periksa apakah semua item dalam tuple berikut sama:\n",
    "tuple1 = (45, 45, 45, 45)\n",
    "Contoh Hasil:\n",
    "True"
   ]
  },
  {
   "cell_type": "code",
   "execution_count": 1,
   "id": "8e1e60d0",
   "metadata": {},
   "outputs": [
    {
     "name": "stdout",
     "output_type": "stream",
     "text": [
      "True\n"
     ]
    }
   ],
   "source": [
    "tuple1 = (45, 45, 45, 45)\n",
    "print(all(tuple1))"
   ]
  },
  {
   "cell_type": "code",
   "execution_count": null,
   "id": "570a1655",
   "metadata": {},
   "outputs": [],
   "source": []
  }
 ],
 "metadata": {
  "kernelspec": {
   "display_name": "Python 3 (ipykernel)",
   "language": "python",
   "name": "python3"
  },
  "language_info": {
   "codemirror_mode": {
    "name": "ipython",
    "version": 3
   },
   "file_extension": ".py",
   "mimetype": "text/x-python",
   "name": "python",
   "nbconvert_exporter": "python",
   "pygments_lexer": "ipython3",
   "version": "3.9.12"
  }
 },
 "nbformat": 4,
 "nbformat_minor": 5
}
