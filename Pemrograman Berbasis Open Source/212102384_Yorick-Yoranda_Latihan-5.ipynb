{
 "cells": [
  {
   "cell_type": "raw",
   "id": "c25e0ca2",
   "metadata": {},
   "source": [
    "1. Tambahkan sebuah List ke dalam suatu set tertentu\n",
    "setWarna = {\"Kuning\", \"Merah\", \"Hijau\", \"Ungu\"}\n",
    "listWarna = [\"Biru\", \"Coklat\", \"Hitam\"]\n",
    "Contoh Hasil : (Catatan hasil default set bisa tidak terurut)\n",
    "{\"Kuning\", \"Biru\", \"Coklat\",\"Merah\", \"Hitam\", \"Hijau\", \"Ungu\"}"
   ]
  },
  {
   "cell_type": "code",
   "execution_count": 1,
   "id": "3ad7dd34",
   "metadata": {},
   "outputs": [
    {
     "name": "stdout",
     "output_type": "stream",
     "text": [
      "{'Kuning', 'Hijau', 'Coklat', 'Biru', 'Ungu', 'Hitam', 'Merah'}\n"
     ]
    }
   ],
   "source": [
    "setWarna = {\"Kuning\", \"Merah\", \"Hijau\", \"Ungu\"}\n",
    "listWarna = [\"Biru\", \"Coklat\", \"Hitam\"]\n",
    "setWarna.update(listWarna)\n",
    "print(setWarna)"
   ]
  },
  {
   "cell_type": "raw",
   "id": "1ccc419f",
   "metadata": {},
   "source": [
    "2. Menghasilkan satu set item identik baru dari dua set tertentu\n",
    "set1 = {10, 20, 30, 40, 50}\n",
    "set2 = {30, 40, 50, 60, 70}"
   ]
  },
  {
   "cell_type": "code",
   "execution_count": 2,
   "id": "dc40c4c4",
   "metadata": {},
   "outputs": [
    {
     "name": "stdout",
     "output_type": "stream",
     "text": [
      "{40, 50, 30}\n"
     ]
    }
   ],
   "source": [
    "set1 = {10, 20, 30, 40, 50}\n",
    "set2 = {30, 40, 50, 60, 70}\n",
    "print(set1 & set2)"
   ]
  },
  {
   "cell_type": "raw",
   "id": "13473f89",
   "metadata": {},
   "source": [
    "3. Menghasilkan satu set baru dengan semua item dari kedua set dengan menghapus duplikat\n",
    "set1 = {10, 20, 30, 40, 50}\n",
    "set2 = {30, 40, 50, 60, 70}"
   ]
  },
  {
   "cell_type": "code",
   "execution_count": 3,
   "id": "5ddbec56",
   "metadata": {},
   "outputs": [
    {
     "name": "stdout",
     "output_type": "stream",
     "text": [
      "{70, 40, 10, 50, 20, 60, 30}\n"
     ]
    }
   ],
   "source": [
    "set1 = {10, 20, 30, 40, 50}\n",
    "set2 = {30, 40, 50, 60, 70}\n",
    "print(set1 | set2)"
   ]
  },
  {
   "cell_type": "raw",
   "id": "bb3eb2fc",
   "metadata": {},
   "source": [
    "4. Diberikan dua set Python, perbarui set pertama dengan item yang hanya ada di set pertama dan bukan di set kedua.\n",
    "set1 = {10, 20, 30}\n",
    "set2 = {20, 40, 50}"
   ]
  },
  {
   "cell_type": "code",
   "execution_count": 4,
   "id": "17c4f42d",
   "metadata": {},
   "outputs": [
    {
     "name": "stdout",
     "output_type": "stream",
     "text": [
      "{10, 30}\n"
     ]
    }
   ],
   "source": [
    "set1 = {10, 20, 30}\n",
    "set2 = {20, 40, 50}\n",
    "print(set1 - set2)"
   ]
  },
  {
   "cell_type": "raw",
   "id": "51873626",
   "metadata": {},
   "source": [
    "5. Hapus item 10, 20, 30 sekaligus dari set berikut \n",
    "set1 = {10, 20, 30, 40, 50}"
   ]
  },
  {
   "cell_type": "code",
   "execution_count": 5,
   "id": "ae6b75bd",
   "metadata": {
    "scrolled": true
   },
   "outputs": [
    {
     "name": "stdout",
     "output_type": "stream",
     "text": [
      "{40, 50}\n"
     ]
    }
   ],
   "source": [
    "set1 = {10, 20, 30, 40, 50}\n",
    "set2 = {10, 20, 30}\n",
    "print(set1 - set2)"
   ]
  },
  {
   "cell_type": "raw",
   "id": "1edf6fa7",
   "metadata": {},
   "source": [
    "6. Kembalikan sekumpulan semua elemen di A atau B, tetapi tidak keduanya\n",
    "set1 = {10, 20, 30, 40, 50}\n",
    "set2 = {30, 40, 50, 60, 70}"
   ]
  },
  {
   "cell_type": "code",
   "execution_count": 6,
   "id": "f16d01b9",
   "metadata": {},
   "outputs": [
    {
     "name": "stdout",
     "output_type": "stream",
     "text": [
      "{70, 10, 20, 60}\n"
     ]
    }
   ],
   "source": [
    "set1 = {10, 20, 30, 40, 50}\n",
    "set2 = {30, 40, 50, 60, 70}\n",
    "set3 = set1 - set2\n",
    "set4 = set2 - set1\n",
    "set3.update(set4)\n",
    "print(set3)"
   ]
  },
  {
   "cell_type": "raw",
   "id": "4d0bd92c",
   "metadata": {},
   "source": [
    "7. Periksa apakah dua set berikut memiliki elemen yang sama. Jika ya, tampilkan elemen set yang nilainya sama.\n",
    "set1 = {10, 20, 30, 40, 50}\n",
    "set2 = {60, 70, 80, 90, 10}"
   ]
  },
  {
   "cell_type": "code",
   "execution_count": 7,
   "id": "13fff420",
   "metadata": {},
   "outputs": [
    {
     "name": "stdout",
     "output_type": "stream",
     "text": [
      "{10}\n"
     ]
    }
   ],
   "source": [
    "set1 = {10, 20, 30, 40, 50}\n",
    "set2 = {60, 70, 80, 90, 10}\n",
    "print(set1 & set2)"
   ]
  },
  {
   "cell_type": "raw",
   "id": "8c2866bd",
   "metadata": {},
   "source": [
    "8. Perbarui set 1 dengan menambahkan item dari set 2, kecuali item yang sama\n",
    "set1 = {10, 20, 30, 40, 50}\n",
    "set2 = {30, 40, 50, 60, 70}"
   ]
  },
  {
   "cell_type": "code",
   "execution_count": 8,
   "id": "bea3ee0f",
   "metadata": {},
   "outputs": [
    {
     "name": "stdout",
     "output_type": "stream",
     "text": [
      "{20, 70, 10, 60}\n"
     ]
    }
   ],
   "source": [
    "set1 = {10, 20, 30, 40, 50}\n",
    "set2 = {30, 40, 50, 60, 70}\n",
    "if set1 ^ set2:\n",
    "    print(set1 ^ set2)\n",
    "else:\n",
    "    print('Tidak ada element yang sama')"
   ]
  },
  {
   "cell_type": "raw",
   "id": "8e5869a1",
   "metadata": {},
   "source": [
    "9. Hapus item dari set1 yang tidak sama untuk set1 dan set2\n",
    "set1 = {10, 20, 30, 40, 50}\n",
    "set2 = {30, 40, 50, 60, 70}"
   ]
  },
  {
   "cell_type": "code",
   "execution_count": 9,
   "id": "6f77ebc2",
   "metadata": {},
   "outputs": [
    {
     "name": "stdout",
     "output_type": "stream",
     "text": [
      "{70, 10, 20, 60}\n"
     ]
    }
   ],
   "source": [
    "set1 = {10, 20, 30, 40, 50}\n",
    "set2 = {30, 40, 50, 60, 70}\n",
    "set3 = set1 - set2\n",
    "set4 = set2 - set1\n",
    "set3.update(set4)\n",
    "print(set3)"
   ]
  },
  {
   "cell_type": "raw",
   "id": "f28de2be",
   "metadata": {},
   "source": [
    "10. Soal"
   ]
  },
  {
   "cell_type": "code",
   "execution_count": 10,
   "id": "110a0a48",
   "metadata": {},
   "outputs": [
    {
     "name": "stdout",
     "output_type": "stream",
     "text": [
      "{1, 2, 3, 4, 5, 6, 7, 8, 9, 10, 11, 12}\n",
      "{9}\n",
      "{7}\n",
      "{13, 14, 15}\n",
      "{1, 2, 3}\n"
     ]
    }
   ],
   "source": [
    "\n",
    "setA = {1, 2, 3, 7, 9, 10}\n",
    "setB = {4, 5, 6, 7, 8, 9}\n",
    "setC = {8, 9, 10, 11, 12}\n",
    "setS = {13, 14, 15}\n",
    "\n",
    "#A\n",
    "print(setA | setB | setC)\n",
    "print(setA & setB & setC)\n",
    "print((setA & setB) - setC)\n",
    "print(setS - (setA & setB & setC))\n",
    "print(setA - setB - setC)\n"
   ]
  },
  {
   "cell_type": "raw",
   "id": "82cdcb54",
   "metadata": {},
   "source": [
    "1.\tUbahlah dua list berikut ke dalam Dictionary\n",
    "keys = ['A01', 'A02', 'K01', 'K02', 'M01']\n",
    "values = ['Lemari Kayu', 'Lemari Besi', 'Kursi Kayu', 'Kursi Putar', 'Meja Pimpinan']\n",
    "Output yang diharapkan:\n",
    "{'A01': 'Lemari Kayu', 'A02': 'Lemari Besi', 'K01': 'Kursi Kayu', 'K02': 'Kursi Putar', 'M01': 'Meja Pimpinan'}"
   ]
  },
  {
   "cell_type": "code",
   "execution_count": 11,
   "id": "186b0b9d",
   "metadata": {
    "scrolled": true
   },
   "outputs": [
    {
     "name": "stdout",
     "output_type": "stream",
     "text": [
      "{'A01': 'Lemari Kayu', 'A02': 'Lemari Besi', 'K01': 'Kursi Kayu', 'K02': 'Kursi Putar', 'M01': 'Meja Pimpinan'}\n"
     ]
    }
   ],
   "source": [
    "keys = ['A01', 'A02', 'K01', 'K02', 'M01']\n",
    "values = ['Lemari Kayu', 'Lemari Besi', 'Kursi Kayu', 'Kursi Putar', 'Meja Pimpinan']\n",
    "print(dict(zip(keys, values)))"
   ]
  },
  {
   "cell_type": "raw",
   "id": "47400ad5",
   "metadata": {},
   "source": [
    "2.\tTulis code Python untuk menambahkan kunci ke dictionary.\n",
    "Contoh Dictionary : {0: 10, 1: 20}\n",
    "Output yang diharapkan: {0: 10, 1: 20, 2: 30}"
   ]
  },
  {
   "cell_type": "code",
   "execution_count": 12,
   "id": "e96f9c71",
   "metadata": {},
   "outputs": [
    {
     "name": "stdout",
     "output_type": "stream",
     "text": [
      "{0: 10, 1: 20, 2: 30}\n"
     ]
    }
   ],
   "source": [
    "dict1 = {0: 10, 1: 20}\n",
    "dict1[2] = 30\n",
    "print(dict1)"
   ]
  },
  {
   "cell_type": "raw",
   "id": "18049016",
   "metadata": {},
   "source": [
    "3.\tTulis code Python untuk menghasilkan dan mencetak dictionary yang berisi angka (antara 1 dan n) dalam bentuk (x, x*x). \n",
    "Contoh dictionary ( n = 5):\n",
    "Output yang Diharapkan : {1:1, 2:4, 3:9, 4:16, 5:25}"
   ]
  },
  {
   "cell_type": "code",
   "execution_count": 13,
   "id": "a9fd42fc",
   "metadata": {},
   "outputs": [
    {
     "name": "stdout",
     "output_type": "stream",
     "text": [
      "{1: 1, 2: 4, 3: 9, 4: 16, 5: 25}\n"
     ]
    }
   ],
   "source": [
    "n = 5\n",
    "list1 = list()\n",
    "list2 = list()\n",
    "i = 1\n",
    "while (i <= n):\n",
    "    list1.append(i)\n",
    "    list2.append(i * i)\n",
    "    i += 1\n",
    "\n",
    "print(dict(zip(list1, list2)))"
   ]
  },
  {
   "cell_type": "raw",
   "id": "64870939",
   "metadata": {},
   "source": [
    "4.\tTulis code Python untuk mencetak disctionary di mana kuncinya adalah angka dari 1 s.d. 15 dan nilainya adalah kuadrat dari kunci. \n",
    "Output yang diharapkan:\n",
    "{1: 1, 2: 4, 3: 9, 4: 16, 5: 25, 6: 36, 7: 49, 8: 64, 9: 81, 10: 100, 11:121, 12: 144, 13 : 169, 14: 196, 15: 225}"
   ]
  },
  {
   "cell_type": "code",
   "execution_count": 14,
   "id": "595af4bc",
   "metadata": {},
   "outputs": [
    {
     "name": "stdout",
     "output_type": "stream",
     "text": [
      "{1: 1, 2: 4, 3: 9, 4: 16, 5: 25, 6: 36, 7: 49, 8: 64, 9: 81, 10: 100, 11: 121, 12: 144, 13: 169, 14: 196, 15: 225}\n"
     ]
    }
   ],
   "source": [
    "n = 15\n",
    "list1 = list()\n",
    "list2 = list()\n",
    "i = 1\n",
    "while (i <= n):\n",
    "    list1.append(i)\n",
    "    list2.append(i * i)\n",
    "    i += 1\n",
    "\n",
    "print(dict(zip(list1, list2)))\n",
    "\n",
    "    "
   ]
  },
  {
   "cell_type": "raw",
   "id": "8ed10d81",
   "metadata": {},
   "source": [
    "5.\tTulis program Python untuk menggabungkan dua dictionary yang menambahkan nilai berdasarkan kunci.\n",
    "contoh dictionary:\n",
    "d1 = {'a': 200, 'b': 300, 'c':400}\n",
    "d2 = {'a': 300, 'b': 200, 'd':500}\n",
    "Output yang diharapkan: \n",
    "Penghitung({'a': 500, 'b': 500, 'd': 500, 'c': 400})\n",
    "\n",
    "Catatan: gunakan fungsi counter dengan terlebih dahulu mengimpor “from collections import Counter”"
   ]
  },
  {
   "cell_type": "code",
   "execution_count": 15,
   "id": "333479cd",
   "metadata": {},
   "outputs": [
    {
     "name": "stdout",
     "output_type": "stream",
     "text": [
      "Counter({'a': 500, 'b': 500, 'd': 500, 'c': 400})\n"
     ]
    }
   ],
   "source": [
    "from collections import Counter\n",
    "\n",
    "d1 = {'a': 200, 'b': 300, 'c':400}\n",
    "d2 = {'a': 300, 'b': 200, 'd':500}\n",
    "a = Counter(d1)\n",
    "b = Counter(d2)\n",
    "print(a + b)"
   ]
  },
  {
   "cell_type": "raw",
   "id": "0313555e",
   "metadata": {},
   "source": [
    "6.\tTulis program Python untuk mencetak semua nilai unik dalam dictionary.\n",
    "Contoh Data : \n",
    "[{\"V\":\"S001\"}, {\"V\": \"S002\"}, {\"VI\": \"S001\"}, {\"VI\": \"S005\"}, {\"VII\":\" S005\"}, {\"V\":\"S009\"},{\"VIII\":\"S007\"}]\n",
    "Output yang Diharapkan : \n",
    "Nilai Unik: {'S005', 'S002', 'S007', 'S001', 'S009'}"
   ]
  },
  {
   "cell_type": "code",
   "execution_count": 16,
   "id": "a58323d5",
   "metadata": {},
   "outputs": [
    {
     "name": "stdout",
     "output_type": "stream",
     "text": [
      "{'S009', 'S005', 'S007', 'S001', 'S002'}\n"
     ]
    }
   ],
   "source": [
    "dict1 = [{\"V\":\"S001\"}, {\"V\": \"S002\"}, {\"VI\": \"S001\"}, {\"VI\": \"S005\"}, {\"VII\":\"S005\"}, {\"V\":\"S009\"},{\"VIII\":\"S007\"}]\n",
    "tampung = list()\n",
    "i = 0\n",
    "while (i <= (len(dict1) - 1)):\n",
    "    dict3 = list(dict1[i])[0]\n",
    "    dict2 = dict1[i]\n",
    "    dict4 = dict2[dict3]\n",
    "    tampung.append(dict4)\n",
    "    i += 1\n",
    "    \n",
    "print(set(tampung))"
   ]
  },
  {
   "cell_type": "raw",
   "id": "80b9b579",
   "metadata": {},
   "source": [
    "7.\tTulis program Python untuk mendapatkan tiga item teratas dari sebuah dictionary. \n",
    "Contoh data: \n",
    "{'item1': 45.50, 'item2':35, 'item3': 41.30, 'item4':55, 'item5': 24}\n",
    "Output yang diharapkan:\n",
    "item4 55\n",
    "item1 45.5\n",
    "item3 41.3"
   ]
  },
  {
   "cell_type": "code",
   "execution_count": 17,
   "id": "78792a80",
   "metadata": {},
   "outputs": [
    {
     "name": "stdout",
     "output_type": "stream",
     "text": [
      "['item1', 'item2', 'item3', 'item4', 'item5']\n"
     ]
    }
   ],
   "source": [
    "dict1 = {'item1': 45.50, 'item2':35, 'item3': 41.30, 'item4':55, 'item5': 24}\n",
    "dict1 = list(dict1)\n",
    "print(dict1)"
   ]
  },
  {
   "cell_type": "raw",
   "id": "bd36ff97",
   "metadata": {},
   "source": [
    "8.\tTulis program Python untuk mengonversi lebih dari satu list ke nested dictionary.\n",
    "Data list:\n",
    "['S001', 'S002', 'S003', 'S004']\n",
    "['Andi', 'Budi', 'Susi', 'Hadi']\n",
    "[85, 98, 89, 92]\n",
    "Output yang diharapkan (nested dictionary):\n",
    "[{'S001': {'Andi': 85}}, {'S002': {'Budi': 98}}, {'S003': {'Susi': 89}}, {'S004' : {'Hadi': 92}}]"
   ]
  },
  {
   "cell_type": "code",
   "execution_count": 18,
   "id": "7d7764e6",
   "metadata": {},
   "outputs": [
    {
     "name": "stdout",
     "output_type": "stream",
     "text": [
      "[{'S001': {'Andi': 85}, 'S002': {'Budi': 98}, 'S003': {'Susi': 89}, 'S004': {'Hadi': 92}}]\n"
     ]
    }
   ],
   "source": [
    "list1 = ['S001', 'S002', 'S003', 'S004']\n",
    "list2 = ['Andi', 'Budi', 'Susi', 'Hadi']\n",
    "list3 = [85, 98, 89, 92]\n",
    "tampung1 = list()\n",
    "i = 0\n",
    "while i <= (len(list2) - 1):\n",
    "    t1 = [list2[i]]\n",
    "    t2 = [list3[i]]\n",
    "    tampung1.append(dict(zip(t1, t2)))\n",
    "    i += 1\n",
    "tampung2 = list()\n",
    "tampung2.append(dict(zip(list1, tampung1)))\n",
    "print(tampung2)"
   ]
  },
  {
   "cell_type": "raw",
   "id": "f953073d",
   "metadata": {},
   "source": [
    "9.\tTulis program Python untuk membuat dictionary dari string dengan jumlah huruf dari tiap character.\n",
    "Contoh string: 'STMIK PONTIANAK'\n",
    "Output yang diharapkan:\n",
    "{'S': 1, 'T': 2, 'M': 1, 'I': 2, 'K': 2, ' ': 1, 'P': 1, 'O': 1, 'N': 2, 'A': 2}"
   ]
  },
  {
   "cell_type": "code",
   "execution_count": 19,
   "id": "79c84617",
   "metadata": {},
   "outputs": [
    {
     "name": "stdout",
     "output_type": "stream",
     "text": [
      "{'S': 1, 'T': 2, 'M': 1, 'I': 2, 'K': 2, ' ': 1, 'P': 1, 'O': 1, 'N': 2}\n"
     ]
    }
   ],
   "source": [
    "str1 = 'STMIK PONTIANAK'\n",
    "str1 = list(str1)\n",
    "str2 = [1, 2, 1, 2, 2, 1, 1, 1, 2, 2]\n",
    "print(dict(zip(str1, str2)))"
   ]
  },
  {
   "cell_type": "raw",
   "id": "71c33f76",
   "metadata": {},
   "source": [
    "10.\tTulis program Python untuk mengurutkan Penghitung berdasarkan nilai. \n",
    "Contoh data : \n",
    "{'C++':81, 'Java':83, 'Python':87, 'C':82, 'javascript':85 }\n",
    "Data yang diharapkan: \n",
    "[('Python', 87), ('javascript', 85), ('Java', 83), ('C', 82), ('C++', 81)]"
   ]
  },
  {
   "cell_type": "code",
   "execution_count": 20,
   "id": "1a771147",
   "metadata": {},
   "outputs": [
    {
     "name": "stdout",
     "output_type": "stream",
     "text": [
      "[('Python', 87), ('javascript', 85), ('Java', 83), ('C', 82), ('C++', 81)]\n"
     ]
    }
   ],
   "source": [
    "from collections import Counter\n",
    "dict1 = {'C++':81, 'Java':83, 'Python':87, 'C':82, 'javascript':85 }\n",
    "\n",
    "\n",
    "tampung1 = list()\n",
    "tampung2 = list()\n",
    "tampung3 = list()\n",
    "\n",
    "i = 0\n",
    "while i <= (len(dict1) - 1):\n",
    "    keys = list(dict1)[i]\n",
    "    values = dict1[keys]\n",
    "    tampung1.append(keys)\n",
    "    tampung1.append(values)\n",
    "    tampung3.append(values) \n",
    "    tampung2.append(list(tampung1))\n",
    "    tampung1.remove(keys)\n",
    "    tampung1.remove(values)\n",
    "    i += 1\n",
    "\n",
    "tampung3.sort()\n",
    "tampung3.reverse()\n",
    "\n",
    "dict1 = tampung2\n",
    "\n",
    "tampung4 = [1, 2, 3, 4, 5]\n",
    "i = 0\n",
    "while i <= (len(dict1) - 1):\n",
    "    t1 = dict1[i][1]\n",
    "    t2 = dict1[i]\n",
    "    idx = tampung3.index(t1)\n",
    "    tampung4[idx] = tuple(t2)\n",
    "    i += 1\n",
    "print(tampung4)"
   ]
  }
 ],
 "metadata": {
  "kernelspec": {
   "display_name": "Python 3 (ipykernel)",
   "language": "python",
   "name": "python3"
  },
  "language_info": {
   "codemirror_mode": {
    "name": "ipython",
    "version": 3
   },
   "file_extension": ".py",
   "mimetype": "text/x-python",
   "name": "python",
   "nbconvert_exporter": "python",
   "pygments_lexer": "ipython3",
   "version": "3.9.12"
  }
 },
 "nbformat": 4,
 "nbformat_minor": 5
}
