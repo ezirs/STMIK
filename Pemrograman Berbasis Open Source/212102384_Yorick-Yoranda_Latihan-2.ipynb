{
 "cells": [
  {
   "cell_type": "raw",
   "id": "874ff4da",
   "metadata": {},
   "source": [
    "1.\tBuatlah program sederhana untuk dapat menentukan nilai yang terbesar dan yang terkecil dari tiga buah nilai yang diinputkan."
   ]
  },
  {
   "cell_type": "code",
   "execution_count": null,
   "id": "17ebad32",
   "metadata": {},
   "outputs": [],
   "source": [
    "a = float(input('Masukkan nilai a : '))\n",
    "b = float(input('Masukkan nilai b : '))\n",
    "c = float(input('Masukkan nilai c : '))\n",
    "\n",
    "tampung = [a, b, c]\n",
    "\n",
    "print(tampung)\n",
    "print('Nilai terbesar:', max(tampung))\n",
    "print('Nilai terkecil:', min(tampung))"
   ]
  },
  {
   "cell_type": "raw",
   "id": "b7fe267b",
   "metadata": {},
   "source": [
    "2.\tBuatlah program sederhana untuk menentukan lama bekerja seorang pegawai, jika jam masuk dan jam pulang diinput.\n",
    "Catatan: jam berupa angka 1-12, dan seorang pegawai bekerja kurang dari 12 jam.\n"
   ]
  },
  {
   "cell_type": "code",
   "execution_count": null,
   "id": "4a9b67be",
   "metadata": {},
   "outputs": [],
   "source": [
    "jamMasuk = int(input(\"Masukkan Jam Masuk [1 - 12] : \"))\n",
    "jamKeluar = int(input(\"Masukkan Jam Keluar [1 - 12] : \"))\n",
    "status = 1\n",
    "if jamMasuk < 1 or jamMasuk > 12 and jamKeluar < 1 or jamKeluar > 12:\n",
    "    status = 0\n",
    "    msg = \"Angka harus lebih besar dari 1 atau lebih kecil dari 12\"\n",
    "elif jamMasuk < jamKeluar:\n",
    "    hasil = jamKeluar - jamMasuk\n",
    "elif jamMasuk > jamKeluar or jamMasuk == jamKeluar:\n",
    "    hasil = (12 - jamMasuk) + jamKeluar\n",
    "\n",
    "if status == 0:\n",
    "    print(msg)\n",
    "else:  \n",
    "    print(\"Lama Bekerja : %s\" % hasil)\n"
   ]
  },
  {
   "cell_type": "raw",
   "id": "01234794",
   "metadata": {},
   "source": [
    "3.\tBuatlah program sederhana untuk menentukan biaya parkir yang dihitung berdasarkan lama parkir. Lama parkir dihitung dari selisih jam masuk dan jam keluar diinput. Biaya parkir 2 jam pertama 2000, per jam berikutnya 500."
   ]
  },
  {
   "cell_type": "code",
   "execution_count": null,
   "id": "88751c80",
   "metadata": {},
   "outputs": [],
   "source": [
    "jamMasuk = int(input(\"Masukkan Jam Masuk [1 - 12] : \"))\n",
    "jamKeluar = int(input(\"Masukkan Jam Keluar [1 - 12] : \"))\n",
    "status = 1\n",
    "if jamMasuk < 1 or jamMasuk > 12 and jamKeluar < 1 or jamKeluar > 12:\n",
    "    status = 0\n",
    "    msg = \"Angka harus lebih besar dari 1 atau lebih kecil dari 12\"\n",
    "elif jamMasuk < jamKeluar:\n",
    "    hasil = jamKeluar - jamMasuk\n",
    "elif jamMasuk > jamKeluar or jamMasuk == jamKeluar:\n",
    "    hasil = (12 - jamMasuk) + jamKeluar\n",
    "\n",
    "if status == 0:\n",
    "    print(msg)\n",
    "else:  \n",
    "    print(\"Lama : %s\" % hasil)\n",
    "    if hasil > 2:\n",
    "        tampung = hasil - 2\n",
    "        biayaPakir = 2000 + (tampung * 500)\n",
    "    elif hasil < 2:\n",
    "        biayaPakir = 2000\n",
    "    \n",
    "    print(\"Biaya : %s\" % biayaPakir)\n",
    "\n"
   ]
  },
  {
   "cell_type": "raw",
   "id": "c788871e",
   "metadata": {},
   "source": [
    "4.\tBuatlah program sederhana untuk menyelesaikan masalah berikut:\n",
    "Program akan menerima masukan berupa kode, jenis dan harga, dengan jenis \"A\", \"B\", dan \"C\". Untuk setiap jenis, masing-masing akan diberikan diskon sebesar 10% untuk A, 15% untuk B, dan 20% untuk C.\n",
    "Program akan menghitung berapa harga setelah didiskon.\n"
   ]
  },
  {
   "cell_type": "code",
   "execution_count": null,
   "id": "180eade4",
   "metadata": {},
   "outputs": [],
   "source": [
    "jenis = str(input(\"Masukkan jenis [A / B / C] : \"))\n",
    "kode = int(input(\"Masukkan kode : \"))\n",
    "harga = float(input(\"Masukkan harga : \"))\n",
    "\n",
    "if jenis == \"A\":\n",
    "    diskon = \"10%\"\n",
    "    hasil = (harga * 10) / 100\n",
    "elif jenis == \"B\":\n",
    "    diskon = \"15%\"\n",
    "    hasil = (harga * 15) / 100\n",
    "elif jenis == \"C\":\n",
    "    diskon = \"20%\"\n",
    "    hasil = (harga * 20) / 100\n",
    "    \n",
    "hasil = harga - hasil\n",
    "print(\"Jenis barang %s mendapat diskon = %s, Harga setelah didiskon = %s\" % (jenis, diskon, hasil))"
   ]
  },
  {
   "cell_type": "raw",
   "id": "0481c07f",
   "metadata": {},
   "source": [
    "5.\tSebuah perusahaan swasta menggaji karyawannya secara mingguan dengan hitungan sebagai berikut :\n",
    "\n",
    "golongan 1 dengan upah per jam 3.000 rupiah\n",
    "golongan 2 dengan upah per jam 3.500 rupiah\n",
    "golongan 3 dengan upah per jam 4.000 rupiah\n",
    "golongan 4 dengan upah per jam 5.000 rupiah\n",
    "\n",
    "Bila seorang karyawan bekerja kurang atau sama dengan 40 jam per minggu, akan dihitung dengan upah per jam seperti di atas. \n",
    "Tetapi apabila bekerja lebih dari 40 jam, maka lebihnya akan dihitung sebagai lembur dengan upah per jam 1½ kali upah biasa.\n",
    "Buatlah program sederhana untuk menghitung gaji mingguan karyawan, bila golongan dan jam kerja diinput dari keyboard.\n"
   ]
  },
  {
   "cell_type": "code",
   "execution_count": null,
   "id": "25d9834e",
   "metadata": {},
   "outputs": [],
   "source": [
    "golongan = str(input(\"Masukkan golongan [1 / 2 / 3 / 4] : \"))\n",
    "jamKerja = int(input(\"Masukkan jam kerja : \"))\n",
    "\n",
    "if golongan == \"1\":\n",
    "    perJam = 3000\n",
    "elif golongan == \"2\":\n",
    "    perJam = 3500\n",
    "elif golongan == \"3\":\n",
    "    perJam = 4000\n",
    "elif golongan == \"4\":\n",
    "    perJam = 5000\n",
    "    \n",
    "if jamKerja <= 40:\n",
    "    upahGaji = jamKerja * perJam\n",
    "elif jamKerja > 40:\n",
    "    tampung = jamKerja - 40\n",
    "    upahGaji = (40 * perJam) + ((perJam * 1.5) * tampung)\n",
    "    \n",
    "print(\"Golongan anda %s, dengan upah %s\" % (golongan, upahGaji))"
   ]
  },
  {
   "cell_type": "raw",
   "id": "d2bbd4b0",
   "metadata": {},
   "source": [
    "6.\tBuatlah program sederhana dengan masukan koordinat sebuah titik (x,y) dalam sebuah sistem koordinat kartesian, kemudian ditentukan di kuadran mana titik tersebut.\n",
    "Contoh Masukan :\n",
    "Koordinat titik (x) : 10 \n",
    "Koordinat titik (y) : -20\n",
    "Contoh keluaran:\n",
    "Titik (10,-20) berada pada kuadran 4\n"
   ]
  },
  {
   "cell_type": "code",
   "execution_count": null,
   "id": "3508bdc4",
   "metadata": {},
   "outputs": [],
   "source": [
    "x = float(input(\"Koordinat titik (x) : \"))\n",
    "y = float(input(\"Koordinat titik (y) : \"))\n",
    "\n",
    "if x > 0 and y > 0:\n",
    "    kuadran = 1\n",
    "elif x < 0 and y > 0:\n",
    "    kuadran = 2\n",
    "elif x < 0 and y < 0:\n",
    "    kuadran = 3\n",
    "elif x > 0 and y < 0:\n",
    "    kuadran = 4\n",
    "    \n",
    "print(\"Titik (%s, %s) berada pada kuadran %s \" % (x, y, kuadran))"
   ]
  },
  {
   "cell_type": "raw",
   "id": "1414b4c3",
   "metadata": {},
   "source": [
    "7.\tPemerintah hanya memberikan tunjangan anak dari PNS maksimal sampai 3 anak saja. Setiap anak diberikan tunjangan sebesar 10% dari gaji pokok.\n",
    "Buatlah program sederhana untuk menghitung total tunjangan anak, bila gaji pokok dan jumlah anak diinput oleh user.\n"
   ]
  },
  {
   "cell_type": "code",
   "execution_count": null,
   "id": "55d5577e",
   "metadata": {},
   "outputs": [],
   "source": [
    "gajiPokok = float(input(\"Masukkan gaji pokok : \"))\n",
    "jumlahAnak = int(input(\"Masukkan jumlah anak : \"))\n",
    "\n",
    "if jumlahAnak <= 3:\n",
    "    tunjangan = ((gajiPokok * 10) / 100) * jumlahAnak\n",
    "elif jumlahAnak > 3:\n",
    "    tampung = jumlahAnak - 3\n",
    "    tunjangan = (((gajiPokok * 10) / 100) * 3) * tampung\n",
    "\n",
    "print(\"Anda memiliki %s anak, dengan total tunjangan : %s\" % (jumlahAnak, tunjangan))"
   ]
  },
  {
   "cell_type": "markdown",
   "id": "7d2751fe",
   "metadata": {},
   "source": [
    "8.\tSebuah acara wisata digunakan minibus kapasitas 7 penumpang per mobil.\n",
    "Apabila terjadi kelebihan penumpang (walaupun cuma 1), maka minibus yang digunakan ditambah 1.\n",
    "Buatlah program sederhana untuk menghitung jumlah minibus yang diperlukan, bila jumlah pesertanya diinput.\n"
   ]
  },
  {
   "cell_type": "code",
   "execution_count": null,
   "id": "088e9394",
   "metadata": {},
   "outputs": [],
   "source": [
    "jumlahPeserta = int(input(\"Masukkan jumlah peserta : \"))\n",
    "\n",
    "jumlahMinubus = 0\n",
    "if jumlahPeserta > 7:\n",
    "    jumlahMinubus = jumlahPeserta / 7\n",
    "\n",
    "if jumlahPeserta % 7 != 0:\n",
    "    jumlahMinubus += 1\n",
    "elif jumlahPeserta > 0:\n",
    "    jumlahMinubus = 1\n",
    "    \n",
    "print(\"Jumlah Minibus %d \" % jumlahMinubus);"
   ]
  },
  {
   "cell_type": "raw",
   "id": "30caf90d",
   "metadata": {},
   "source": [
    "9.\tPLN menerapkan pembayaran listrik perumahan dengan cara perhitungan sebagai berikut :\n",
    "- Untuk golongan 1 tarif : Rp 1000/kWh\n",
    "- Untuk golongan 2 tarif : Rp 2000/kWh\n",
    "\n",
    "Dengan syarat penghitungan:\n",
    "Minimum pembayaran adalah 100 kWh sedangkan untuk pemakaian 1000 kWh dan seterusnya tarifnya ditambah 10% dari total pembayaran.\n",
    "Buatlah program sederhana untuk menghitung jumlah yang harus dibayar konsumen jika diinputkan golongan dan pemakaian kWh.\n"
   ]
  },
  {
   "cell_type": "code",
   "execution_count": null,
   "id": "bf71f148",
   "metadata": {},
   "outputs": [],
   "source": [
    "golongan = int(input(\"Masukkan golongan [1 / 2] : \"))\n",
    "pemakaian = float(input(\"Masukkan pemakaian [kWh] : \"))\n",
    "\n",
    "if golongan == 1:\n",
    "    tarif = 1000\n",
    "elif golongan == 2:\n",
    "    tarif = 2000\n",
    "    \n",
    "if pemakaian < 100:\n",
    "    bayar = pemakaian * tarif\n",
    "elif pemakaian >= 1000:\n",
    "    tampung = pemakaian * tarif\n",
    "    bayar = tampung + ((tampung * 10) / 100)\n",
    "\n",
    "print(\"Bayar : %s\" % bayar)"
   ]
  },
  {
   "cell_type": "raw",
   "id": "28fe8cd4",
   "metadata": {},
   "source": [
    "10.\tKonsumen pada sebuah bank akan memdapatkan bunga dan pajak dari tabungannya. Bunga didapat berdasarkan jumlah tabungannya. Jika tabungannya antara 1 sampai 1 juta maka mendapatkan bunga sebesar 9%/tahun dari total tabungannya. Tabungan >1juta s/d 10 juta mendapatkan bunga 12%/tahun. Tabungan>10 juta s/d 100 juta mendapatkan bungan 15%/tahun Dan >100 juta mendapatkan bunga 17%/tahun. Semua konsumen dikenakan pajak sebesar 1%/bulan dari total tabungannya. Buat program python untuk menghitung berapa bunga dan pajak perbulan."
   ]
  },
  {
   "cell_type": "code",
   "execution_count": 3,
   "id": "5c0b8534",
   "metadata": {},
   "outputs": [
    {
     "name": "stdout",
     "output_type": "stream",
     "text": [
      "Masukkan jumlah tabungan : 100000000\n",
      "Total tabungan : 103000000.0\n",
      "Total bunga : 15000000.0\n",
      "Total pajak : 12000000.0\n",
      "Pajak perbulan : 1000000.0\n"
     ]
    }
   ],
   "source": [
    "jumlahTabungan = float(input(\"Masukkan jumlah tabungan : \"))\n",
    "if jumlahTabungan > 1 and jumlahTabungan <= 1000000:\n",
    "    bunga = (jumlahTabungan * 9) / 100\n",
    "elif jumlahTabungan > 1000000 and jumlahTabungan <= 10000000:\n",
    "    bunga = (jumlahTabungan * 12) / 100\n",
    "elif jumlahTabungan > 10000000 and jumlahTabungan <= 100000000:\n",
    "    bunga = (jumlahTabungan * 15) / 100\n",
    "elif jumlahTabungan > 100000000:\n",
    "    bunga = (jumlahTabungan * 17) / 100\n",
    "\n",
    "pajak = ((jumlahTabungan * 1) / 100) * 12\n",
    "pajakBulanan = ((jumlahTabungan * 1) / 100)\n",
    "\n",
    "hasil = jumlahTabungan + bunga - pajak\n",
    "\n",
    "print(\"Total tabungan : %s\" % hasil)\n",
    "print(\"Total bunga : %s\" % bunga)\n",
    "print(\"Total pajak : %s\" % pajak)\n",
    "print(\"Pajak perbulan : %s\" % pajakBulanan)"
   ]
  },
  {
   "cell_type": "code",
   "execution_count": null,
   "id": "bda262ad",
   "metadata": {},
   "outputs": [],
   "source": []
  },
  {
   "cell_type": "code",
   "execution_count": null,
   "id": "5632cf59",
   "metadata": {},
   "outputs": [],
   "source": []
  }
 ],
 "metadata": {
  "kernelspec": {
   "display_name": "Python 3 (ipykernel)",
   "language": "python",
   "name": "python3"
  },
  "language_info": {
   "codemirror_mode": {
    "name": "ipython",
    "version": 3
   },
   "file_extension": ".py",
   "mimetype": "text/x-python",
   "name": "python",
   "nbconvert_exporter": "python",
   "pygments_lexer": "ipython3",
   "version": "3.9.12"
  }
 },
 "nbformat": 4,
 "nbformat_minor": 5
}
