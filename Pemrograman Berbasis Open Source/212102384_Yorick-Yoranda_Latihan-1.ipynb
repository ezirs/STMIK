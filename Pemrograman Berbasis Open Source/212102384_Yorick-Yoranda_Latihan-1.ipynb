{
 "cells": [
  {
   "cell_type": "raw",
   "id": "ddf03f15",
   "metadata": {},
   "source": [
    "1.Seorang pedagang buah menjual dagangannya yang setiap kg buah naga dihargai dengan harga Rp 20.000 dan buah jeruk dengan harga Rp 25.000. Setiap pembeli membayar harga buah yang dibelinya berdasarkan berat. Buatlah program sederhana sehingga pedagang buah dapat dengan mudah menentukan total harga yang harus dibayar pembelinya jika pembeli membeli sebanyak 2.35 kg jeruk dan 2.7 kg buah naga."
   ]
  },
  {
   "cell_type": "code",
   "execution_count": null,
   "id": "600a96c7",
   "metadata": {},
   "outputs": [],
   "source": [
    "kgNaga = float(input('Masukkan berat kg buah Naga : '))\n",
    "kgJeruk = float(input('Masukkan berat kg buah Jeruk : '))\n",
    "hargaNaga = 20000\n",
    "hargaJeruk = 25000\n",
    "totalHarga = (hargaNaga * kgNaga) + (hargaJeruk * kgJeruk)\n",
    "print(\"Total harga yang harus Anda bayar adalah : \" + str(totalHarga));\n"
   ]
  },
  {
   "cell_type": "raw",
   "id": "7e84d598",
   "metadata": {},
   "source": [
    "2.\tBuatlah Program sederhana untuk menghitung panjang sisi miring dari sebuah segitiga siku-siku jika diketahui alas = 12 dan tinggi = 4 (untuk akar kuadrat gunakan fungsi math.sqrt())"
   ]
  },
  {
   "cell_type": "code",
   "execution_count": null,
   "id": "d18bb6b5",
   "metadata": {},
   "outputs": [],
   "source": [
    "import math\n",
    "a = float(input('Masukan nilai alas : '))\n",
    "b = float(input('Masukan nilai tinggi : '))\n",
    "c = a**2 + b**2\n",
    "hasil = math.sqrt(c)\n",
    "\n",
    "print(\"Hasilnya adalah : \" + str(hasil))"
   ]
  },
  {
   "cell_type": "raw",
   "id": "99123885",
   "metadata": {},
   "source": [
    "3.Buat program sederhana untuk mengkonversi Suhu dari celcius (dengan C = 35) ke Degree Conversion "
   ]
  },
  {
   "cell_type": "code",
   "execution_count": null,
   "id": "dada3bb7",
   "metadata": {},
   "outputs": [],
   "source": [
    "c = float(input('Masukan nilai celcius : '))\n",
    "f = (9 / 5) * c + 32\n",
    "rea = (4 / 5) * c\n",
    "k = 273 + c\n",
    "ran = (9 / 5) * c + 491.67\n",
    "d = (100 / c) * (3 / 2)\n",
    "rom = (21 / 40) * c + 7.5\n",
    "n = 0.33 * c\n",
    "\n",
    "print(\"Fahrenheit : \" + str(f))\n",
    "print(\"Reamur : \" + str(rea))\n",
    "print(\"Kelvin : \" + str(k))\n",
    "print(\"Rankine : \" + str(ran))\n",
    "print(\"Delisle : \" + str(d))\n",
    "print(\"Romer : \" + str(rom))\n",
    "print(\"Newton : \" + str(n))"
   ]
  },
  {
   "cell_type": "raw",
   "id": "21a0eed5",
   "metadata": {},
   "source": [
    "4.\tBuat program sederhana untuk Mengkonversi RGB ke Grayscale dengan Nilai R = 128, G = 255, B = 128"
   ]
  },
  {
   "cell_type": "code",
   "execution_count": null,
   "id": "9ea5bbda",
   "metadata": {},
   "outputs": [],
   "source": [
    "red = float(input('Masukkan Red : '))\n",
    "green = float(input('Masukkan Green : '))\n",
    "blue = float(input('Masukkan Blue : '))\n",
    "grayscale = (red + green + blue) / 3\n",
    "print(\"Grayscale : \" + str(grayscale))"
   ]
  },
  {
   "cell_type": "raw",
   "id": "1ea6c3d4",
   "metadata": {},
   "source": [
    "5.\tDiketahui nilai hambatan R1 = 4 ohm, R2 = 6 ohm dan R3 = 12 ohm.\n",
    "Buat program sederhana untuk menghitung nilai hambatan penggantinya dalam rangkaian seri dan dalam rangkaian paralel!"
   ]
  },
  {
   "cell_type": "code",
   "execution_count": null,
   "id": "497c921d",
   "metadata": {},
   "outputs": [],
   "source": [
    "r1 = float(input('Masukan nilai R1 : '))\n",
    "r2 = float(input('Masukan nilai R2 : '))\n",
    "r3 = float(input('Masukan nilai R3 : '))\n",
    "rs = r1 + r2 + r3\n",
    "rp = (1 / r1) * (1 / r2) * (1 / r3)\n",
    "hasilRP = 1 / rp\n",
    "print(\"Rangkaian Seri : \" + str(rs))\n",
    "print(\"Rangkaian Pararel : \" + str(hasilRP))"
   ]
  },
  {
   "cell_type": "raw",
   "id": "a337b5cc",
   "metadata": {},
   "source": [
    "6.\tBuat Program sederhana untuk mengkonversi waktu ke total detik. Waktu tempuh seorang pelari marathon dalam jam-menit-detik (hh:mm:ss). \n",
    "        1 menit = 60 detik\n",
    "        1 jam = 3600 detik\n",
    "Misalnya waktu tempuh seorang pelari marathon adalah 1 jam, 5 menit, 40 detik. Dalam detik, waktu tempuh seluruhnya adalah (1x3600) + (5x60) + 40 = 3940 detik."
   ]
  },
  {
   "cell_type": "code",
   "execution_count": null,
   "id": "452bdc77",
   "metadata": {},
   "outputs": [],
   "source": [
    "h = float(input('Masukan total Jam : '))\n",
    "m = float(input('Masukan total Menit : '))\n",
    "d = float(input('Masukan total Detik : '))\n",
    "\n",
    "satuMenit = 60\n",
    "satuJam = 3600\n",
    "\n",
    "totalDetik = (h * satuJam) + (m * satuMenit) + d\n",
    "\n",
    "print(\"Total detik yang telah ditempuh pelari adalah : \" + str(totalDetik))"
   ]
  },
  {
   "cell_type": "raw",
   "id": "0f59d741",
   "metadata": {},
   "source": [
    "7.\tBang Gusti mengendarai mobil taxi dengan kecepatan rata-rata 60 km/jam. Ia berangkat dari kota Singkawang menuju kota Pontianak pukul 04.00. Jika Ia tiba di kota Pontianak Pukul 07.00. Buat program sederhana untuk menentukan jarak (km) yang telah ditempuh Bang Gusti ?\n",
    "Rumus menghitung jarak tempuh : \n",
    "s = jarak tempuh (km)\n",
    "v = kecepatan rata-rata (km/jam)\n",
    "t = waktu tempuh (dalam jam)"
   ]
  },
  {
   "cell_type": "code",
   "execution_count": null,
   "id": "c9067032",
   "metadata": {},
   "outputs": [],
   "source": [
    "v = float(input('Masukan kecepatan rata-rata : '))\n",
    "t = float(input('Masukan total waktu tempuh : '))\n",
    "s = v * t\n",
    "print(\"Jarak yang telah ditempuh Bang Gusti adalah \" + str(s) + \" km\")"
   ]
  },
  {
   "cell_type": "raw",
   "id": "75cbe646",
   "metadata": {},
   "source": [
    "8.\tJarak Pontianak – Sui. Pinyuh 60 km. Bang Jack berangkat dari Pontianak menuju ke Sui. Pinyuh menggunakan sepeda motor pada pukul 07.30 dengan Kecepatan rata-rata 40 km/jam. Buat program sederhana untuk menentukan lama waktu tempuh yang dibutuhkan oleh Bang Jack untuk sampai ke Sui. Pinyuh dan tampilkan Pukul Berapakah Bang Jack tiba di Sui. Pinyuh?\n",
    "Rumus menghitung waktu tempuh:"
   ]
  },
  {
   "cell_type": "code",
   "execution_count": null,
   "id": "5feed7dc",
   "metadata": {},
   "outputs": [],
   "source": [
    "s = float(input('Masukan jarak yang telah ditempuh : '))\n",
    "v = float(input('Masukan kecepatan rata-rata : '))\n",
    "t = s / v\n",
    "print(\"Waktu tempuh yang dibutuhkan dari Pontianak ke Sui adalah  \" + str(7) + \" jam\")"
   ]
  },
  {
   "cell_type": "raw",
   "id": "bdbc5f0a",
   "metadata": {},
   "source": [
    "9.\tBudi mempunyai kelereng sebanyak 15 buah. Jumlah itu 10 buah lebih banyak dari kelereng Andi. Sedangkan Hasan memiliki kelereng sebanyak 2 kali jumlah kelereng Budi dan Andi. Lukman memiliki kelereng sebanyak 5 buah lebih sedikit dari jumlah kelereng Budi, Andi dan Hasan. Buatlah program sederhana untuk menentukan banyaknya kelereng Andi, Hasan dan Lukman, jika diketahui jumlah kelereng Budi."
   ]
  },
  {
   "cell_type": "code",
   "execution_count": null,
   "id": "08538764",
   "metadata": {},
   "outputs": [],
   "source": [
    "budi = 15\n",
    "andi = budi - 10\n",
    "hasan = (budi * 2) + (andi * 2)\n",
    "lukman = (budi + andi + hasan) - 5\n",
    "print(\"Jumlah kelereng Budi : \" + str(budi))\n",
    "print(\"Jumlah kelereng Andi : \" + str(andi))\n",
    "print(\"Jumlah kelereng Hasan : \" + str(hasan))\n",
    "print(\"Jumlah kelereng Lukman : \" + str(lukman))"
   ]
  },
  {
   "cell_type": "raw",
   "id": "ba37a66d",
   "metadata": {},
   "source": [
    "10.\tBuatlah algoritma dan program untuk mengkonversikan satuan cm ke dalam km, m, dan mm!"
   ]
  },
  {
   "cell_type": "code",
   "execution_count": null,
   "id": "7770b0ef",
   "metadata": {},
   "outputs": [],
   "source": [
    "cm = float(input(\"Masukan CM : \"))\n",
    "mm = cm * 10\n",
    "m = cm * 0.01\n",
    "km = cm * 0.00001\n",
    "print(\"Konvert ke MM : \" + str(mm))\n",
    "print(\"Konvert ke M : \" + str(m))\n",
    "print(\"Konvert ke KM : \" + str(km))"
   ]
  },
  {
   "cell_type": "raw",
   "id": "91d7b230",
   "metadata": {},
   "source": [
    "11.\tBuatlah algoritma dan program untuk mengkonversikan satuan gram ke dalam ton, kuintal, kg, dan ons!\n",
    "1 kg = 1000 gram\n",
    "1 ons = 100 gram\n",
    "1 ton = 1000 kg\n",
    "1 ton = 10 kuintal"
   ]
  },
  {
   "cell_type": "code",
   "execution_count": null,
   "id": "8ef82b02",
   "metadata": {},
   "outputs": [],
   "source": [
    "gram = float(input(\"Masukan gram : \"))\n",
    "satuKG = 1000\n",
    "satuONS = 100\n",
    "satuTON_KG = 1000 * satuKG\n",
    "satuTON_KL = 10 * satuTON_KG * satuKG\n",
    "\n",
    "ton = gram / satuTON_KG\n",
    "kuintal = gram / satuTON_KL\n",
    "kg = gram / satuKG\n",
    "ons = gram / satuONS\n",
    "print(\"Nilai TON : \" + str(ton))\n",
    "print(\"Nilai KUINTAL : \" + str(kuintal))\n",
    "print(\"Nilai KG : \" + str(kg))\n",
    "print(\"Nilai ONS : \" + str(ons))"
   ]
  },
  {
   "cell_type": "raw",
   "id": "ced96cfa",
   "metadata": {},
   "source": [
    "12.\tKonversikan total detik ke dalam bentuk jam, menit, dan detik. Dengan catatan total detik tersebut di input atau dimasukkan oleh pengguna !\n",
    "Misal : Total detik = 4000\n",
    "maka outputnya 1 Jam 6 Menit 40 Detik"
   ]
  },
  {
   "cell_type": "code",
   "execution_count": null,
   "id": "691feedf",
   "metadata": {},
   "outputs": [],
   "source": [
    "from datetime import datetime\n",
    "\n",
    "detik = float(input(\"Masukan total detik : \"))\n",
    "ms = detik * 1000\n",
    "now = datetime.now()\n",
    "distance = (ms + now.microsecond) - now.microsecond;\n",
    "jam = ((distance % (1000 * 60 * 60 * 24)) / (1000 * 60 * 60))\n",
    "menit = ((distance % (1000 * 60 * 60)) / (1000 * 60))\n",
    "detik = ((distance % (1000 * 60)) / 1000)\n",
    "print(str(int(jam)) + \" jam \" + str(int(menit)) + \" menit \" + str(int(detik)) + \" detik\")\n"
   ]
  },
  {
   "cell_type": "raw",
   "id": "f8f0e428",
   "metadata": {},
   "source": [
    "13.\tBuatlah Sebuah program untuk menghitung Gaji Bersih seorang karyawan. Diinput nama karyawan dan Gaji pokok bulanan. Gaji bersih yang diterima pegawai adalah:\n",
    "Gaji Bersih = Gaji Pokok + Tunjangan – Pajak\n",
    "Tunjangan Karyawan dihitung 20% dari Gaji Pokok, sedangkan Pajak adalah 15 % dari Gaji Pokok ditambah Tunjangan. Nama Karyawan dan Gaji Bersihnya dicetak sebagai output."
   ]
  },
  {
   "cell_type": "code",
   "execution_count": null,
   "id": "ce138d8e",
   "metadata": {},
   "outputs": [],
   "source": [
    "nama = str(input(\"Masukan nama karyawan : \"))\n",
    "gajiPokok = float(input(\"Masukan gaji pokok : \"))\n",
    "tunjangan = (gajiPokok * 20) / 100\n",
    "pajak = ((gajiPokok + tunjangan) * 15) / 100 \n",
    "gajiBersih = gajiPokok + tunjangan - pajak\n",
    "print(\"Nama karyawan : \" + str(nama))\n",
    "print(\"Gaji bersih : \" + str(gajiBersih))"
   ]
  },
  {
   "cell_type": "raw",
   "id": "b79cc328",
   "metadata": {},
   "source": [
    "14.\tBuat program menghitung selisih waktu (dalam jam dan menit) berdasarkan jam mulai (jam,menit) dengan jam selesai (jam,menit).\n",
    "Data yang diinput adalah jam dan menit mulai, jam dan menit selesai.\n",
    "\n",
    "Contoh Masukan dan Keluaran:\n",
    "Waktu Mulai: 10:30\n",
    "Waktu Selesai: 12:10\n",
    "Lama(menit): 100\n",
    "Durasi: 1 Jam 40 Menit\n",
    "\n",
    "Waktu Mulai: 10:30\n",
    "Waktu Selesai: 12:10\n",
    "Lama(menit): 100\n",
    "Durasi: 1 Jam 40 Menit"
   ]
  },
  {
   "cell_type": "code",
   "execution_count": 5,
   "id": "20c5b0fb",
   "metadata": {},
   "outputs": [
    {
     "name": "stdout",
     "output_type": "stream",
     "text": [
      "Masukan Jam (Format => hh:mm) : 10:30\n",
      "Masukan Menit (Format => hh:mm) : 12:10\n",
      "Lama (Menit) : 100\n",
      "Durasi 1 jam 40 menit 0 detik\n"
     ]
    }
   ],
   "source": [
    "from datetime import datetime\n",
    "\n",
    "jamMulai = input(\"Masukan Jam (Format => hh:mm) : \")\n",
    "jamSelesai = input(\"Masukan Menit (Format => hh:mm) : \")\n",
    "\n",
    "mulai_jam, mulai_menit = map(int, jamMulai.split(':'))\n",
    "selesai_jam, selesai_menit = map(int, jamSelesai.split(':'))\n",
    "\n",
    "totalMenit = ((selesai_jam * 60) - (mulai_jam * 60)) + (selesai_menit - mulai_menit)\n",
    "\n",
    "ms = totalMenit * 60000\n",
    "now = datetime.now()\n",
    "distance = (ms + now.microsecond) - now.microsecond;\n",
    "jam = ((distance % (1000 * 60 * 60 * 24)) / (1000 * 60 * 60))\n",
    "menit = ((distance % (1000 * 60 * 60)) / (1000 * 60))\n",
    "detik = ((distance % (1000 * 60)) / 1000)\n",
    "\n",
    "print(\"Lama (Menit) : \" + str(totalMenit))\n",
    "print(\"Durasi \" + str(int(jam)) + \" jam \" + str(int(menit)) + \" menit \" + str(int(detik)) + \" detik\")"
   ]
  },
  {
   "cell_type": "raw",
   "id": "7c916fce",
   "metadata": {},
   "source": [
    "15.\tBuat sebuah program sederhana untuk mengkonversi Nilai RGB ke dalam format CMYK (cyan (C), magenta (M), yellow (Y), and black (K)) dengan input nilai RGB (Red, Green dan Blue)."
   ]
  },
  {
   "cell_type": "code",
   "execution_count": 1,
   "id": "7f6c4d45",
   "metadata": {},
   "outputs": [
    {
     "name": "stdout",
     "output_type": "stream",
     "text": [
      "Masukan nilai Red : 255\n",
      "Masukan nilai Green : 255\n",
      "Masukan nilai Blue : 255\n",
      "White : 1.0\n",
      "Cyan : 0.0\n",
      "Magenta : 0.0\n",
      "Yellow : 0.0\n",
      "Black : 0.0\n"
     ]
    }
   ],
   "source": [
    "red = float(input(\"Masukan nilai Red : \"))\n",
    "green = float(input(\"Masukan nilai Green : \"))\n",
    "blue = float(input(\"Masukan nilai Blue : \"))\n",
    "\n",
    "w = max(red / 255, green / 255, blue / 255)\n",
    "c = (w - (red / 255)) / w\n",
    "m = (w - (green / 255)) / w\n",
    "y = (w - (blue / 255)) / w\n",
    "b = (1 - w)\n",
    "\n",
    "print(\"White : \" + str(w))\n",
    "print(\"Cyan : \" + str(c))\n",
    "print(\"Magenta : \" + str(m))\n",
    "print(\"Yellow : \" + str(y))\n",
    "print(\"Black : \" + str(b))"
   ]
  }
 ],
 "metadata": {
  "kernelspec": {
   "display_name": "Python 3 (ipykernel)",
   "language": "python",
   "name": "python3"
  },
  "language_info": {
   "codemirror_mode": {
    "name": "ipython",
    "version": 3
   },
   "file_extension": ".py",
   "mimetype": "text/x-python",
   "name": "python",
   "nbconvert_exporter": "python",
   "pygments_lexer": "ipython3",
   "version": "3.9.12"
  }
 },
 "nbformat": 4,
 "nbformat_minor": 5
}
