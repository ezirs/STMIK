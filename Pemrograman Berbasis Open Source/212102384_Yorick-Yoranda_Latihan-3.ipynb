{
 "cells": [
  {
   "cell_type": "raw",
   "id": "b412f07f",
   "metadata": {},
   "source": [
    "1. Tulis program Python untuk menebak angka antara 1 hingga 9.\n",
    "Catatan : Pengguna diminta memasukkan tebakan. Jika tebakan pengguna salah maka muncul prompt lagi hingga tebakan benar, pada tebakan yang berhasil, pengguna akan mendapatkan pesan \"Tebakan bagus!\" pesan, dan program akan keluar."
   ]
  },
  {
   "cell_type": "code",
   "execution_count": null,
   "id": "a46356df",
   "metadata": {},
   "outputs": [],
   "source": [
    "import random\n",
    "\n",
    "tebakan = int(input(\"Masukkan tebakan : \"))\n",
    "listAngka = [1, 2, 3, 4, 5, 6, 7, 8, 9]\n",
    "gAngka = random.choice(listAngka)\n",
    "while tebakan != gAngka:\n",
    "    print(\"Tebakan salah\")\n",
    "    tebakan = int(input(\"Masukkan tebakan : \"))\n",
    "    \n",
    "print(\"Tebakan Benar\")"
   ]
  },
  {
   "cell_type": "raw",
   "id": "ddce1841",
   "metadata": {},
   "source": [
    "2. Tulis program Python untuk membuat pola berikut, menggunakan loop for bersarang."
   ]
  },
  {
   "cell_type": "code",
   "execution_count": null,
   "id": "438afed4",
   "metadata": {},
   "outputs": [],
   "source": [
    "i = 1\n",
    "while i <= 4:\n",
    "    print(\"*\" * i)\n",
    "    i += 1\n",
    "    if i == 5:\n",
    "        n = i\n",
    "        while n >= 1:\n",
    "            print(\"*\" * n)\n",
    "            n -= 1\n",
    "        \n",
    "        "
   ]
  },
  {
   "cell_type": "raw",
   "id": "925d3920",
   "metadata": {},
   "source": [
    "3. Tulis program Python yang menerima kata dari pengguna dan membalikkannya.\n",
    "Masukkan kata: STMIK\n",
    "Keluaran yang diharapkan : KIMTS"
   ]
  },
  {
   "cell_type": "code",
   "execution_count": null,
   "id": "23e25728",
   "metadata": {},
   "outputs": [],
   "source": [
    "kata = str(input(\"Masukkan kata : \"))\n",
    "tampung = \"\"\n",
    "listKata = list(kata)\n",
    "jKata = len(kata)\n",
    "jKata = jKata - 1\n",
    "while jKata >= 0:\n",
    "    tampung = tampung + listKata[jKata]\n",
    "    jKata -= 1\n",
    "print(tampung)\n"
   ]
  },
  {
   "cell_type": "raw",
   "id": "27c00532",
   "metadata": {},
   "source": [
    "4. Tulis program Python untuk mendapatkan deret Fibonacci antara 0 hingga 50.\n",
    "Catatan : Deret Fibonacci adalah barisan bilangan :\n",
    "0, 1, 1, 2, 3, 5, 8, 13, 21, ....\n",
    "Setiap angka berikutnya ditemukan dengan menjumlahkan dua angka sebelumnya.\n",
    "Output yang Diharapkan : 1 1 2 3 5 8 13 21 34"
   ]
  },
  {
   "cell_type": "code",
   "execution_count": null,
   "id": "1b1f521c",
   "metadata": {},
   "outputs": [],
   "source": [
    "n1, n2 = 0, 1\n",
    "print(n1)\n",
    "while n2 < 50:\n",
    "    print(n2)\n",
    "    n1, n2 = n2, n1 + n2"
   ]
  },
  {
   "cell_type": "raw",
   "id": "0b297ea9",
   "metadata": {},
   "source": [
    "5. Tulis program Python untuk membuat tabel perkalian (dari 1 hingga 10) dari suatu bilangan.\n",
    "Keluaran yang diharapkan:\n",
    "Masukkan nomor: 6\n",
    "6 x 1 = 6\n",
    "6 x 2 = 12\n",
    "6 x 3 = 18\n",
    "6 x 4 = 24\n",
    "6 x 5 = 30\n",
    "6 x 6 = 36\n",
    "6 x 7 = 42\n",
    "6 x 8 = 48\n",
    "6 x 9 = 54\n",
    "6 x 10 = 60"
   ]
  },
  {
   "cell_type": "code",
   "execution_count": null,
   "id": "6e32d76d",
   "metadata": {},
   "outputs": [],
   "source": [
    "nomor = float(input(\"Masukkan nomor : \"))\n",
    "i = 1\n",
    "while i <= 10:\n",
    "    print(nomor, \" x \", i, \" = \", nomor * i)\n",
    "    i += 1"
   ]
  },
  {
   "cell_type": "raw",
   "id": "206f0217",
   "metadata": {},
   "source": [
    "6.\tAdik tomoe yang bernama Gojo, kesulitan untuk memahami materi FPB (faktor persekutuan terbesar) disekolahnya, sehingga gojo meminta tomoe untuk membuatkan sebuah program yang dapat menampilkan FPB dari tiga bilangan bulat positif yang berbeda. Untuk itu Tomoe meminta bantuan anda untuk membuat sebuah program yang dapat menampilkan FPB dari 3 bilangan bulat positif yang berbeda. Tomoe mengilustrasikan program tersebut sebagai berikut:\n",
    "Jika Gojo menginputkan 12,24,32 maka program harus dapat menampilkan FPB dari 3 bilangan tersebut, yaitu 4, serta menampilkan faktor dari masing-masing bilangan agar Tomoe dapat mengecek apakah programnya benar dan dapat dipakai oleh adiknya Gojo.\n",
    "Contoh Input:\n",
    "inputan 1 = 12\n",
    "inputan 2 = 24\n",
    "inputan 3 = 32 \n",
    "Proses:\n",
    "faktor 1 = 1,5\n",
    "faktor 2 = 1,2,5,10\n",
    "faktor 3 = 1, 7\n",
    "Output:3\n",
    "Faktor 1 = 1,2,3,4,6,12\n",
    "Faktor 2 = 1, 2, 3, 4, 6, 8, 12, 24\n",
    "Faktor 3 = 1, 2, 4, 8, 16, 32\n",
    "Dan FPBnya 4.\n"
   ]
  },
  {
   "cell_type": "code",
   "execution_count": null,
   "id": "898ed582",
   "metadata": {},
   "outputs": [],
   "source": [
    "input1 = int(input(\"Inputan 1 = \"))\n",
    "input2 = int(input(\"Inputan 2 = \"))\n",
    "input3 = int(input(\"Inputan 3 = \"))\n",
    "\n",
    "tampung = [input1, input2, input3]\n",
    "smaller = max(tampung)\n",
    "tampung1 = \"\"\n",
    "tampung2 = \"\"\n",
    "tampung3 = \"\"\n",
    "for i in range(1, smaller + 1):\n",
    "    if input1 % i == 0:\n",
    "        tampung1 = tampung1 + \" \" + str(i)\n",
    "    if input2 % i == 0:\n",
    "        tampung2 = tampung2 + \" \" + str(i)\n",
    "    if input3 % i == 0:\n",
    "        tampung3 = tampung3 + \" \" + str(i)\n",
    "    if ((input1 % i == 0) and (input2 % i == 0) and (input3 % i == 0)):\n",
    "        hasil = i\n",
    "\n",
    "print(\"Faktor 1 : \", tampung1)\n",
    "print(\"Faktor 2 : \", tampung2)\n",
    "print(\"Faktor 3 : \", tampung3)\n",
    "print(\"FPB Dari {}, {}, dan {} adalah {}\" . format(input1, input2, input3, hasil))\n"
   ]
  },
  {
   "cell_type": "raw",
   "id": "131b26e2",
   "metadata": {},
   "source": [
    "7.\tBuatlah sebuah program untuk melakukan validasi username dan password. Aplikasi akan meminta untuk memasukkan id user dan password. jika id dan password benar maka muncul pesan “Anda Berhasil Login”, jika tidak maka muncul pesan “Login Salah” dan proses diulang dari awal sampai input id use dan password sebanyak tiga kali. Setelah tiga kali gagal login, maka muncul pesan “Login dibatalkan. Terima Kasih” dan program berakhir."
   ]
  },
  {
   "cell_type": "code",
   "execution_count": 11,
   "id": "0c1a84bc",
   "metadata": {},
   "outputs": [
    {
     "name": "stdout",
     "output_type": "stream",
     "text": [
      "========== Register ==========\n",
      "Username : Yorick\n",
      "Password : 123\n",
      "Confirm Password : 123\n",
      "Register Berhasil\n",
      "========== Login ==========\n",
      "Username : Yorick\n",
      "Password : 123\n",
      "Anda Berhasil Login\n"
     ]
    }
   ],
   "source": [
    "print((\"=\" * 10) + \" Register \" + (\"=\" * 10))\n",
    "\n",
    "username = input(\"Username : \")\n",
    "password = input(\"Password : \")\n",
    "cpass = input(\"Confirm Password : \")\n",
    "\n",
    "while password != cpass:\n",
    "    print(\"Password tidak cocok\")\n",
    "    username = input(\"Username : \")\n",
    "    password = input(\"Password : \")\n",
    "    cpass = input(\"Confirm Password : \")\n",
    "else:\n",
    "    print(\"Register Berhasil\")\n",
    "\n",
    "print((\"=\" * 10) + \" Login \" + (\"=\" * 10))\n",
    "\n",
    "percobaan = 1\n",
    "while percobaan <= 3:\n",
    "    _username = input(\"Username : \")\n",
    "    _password = input(\"Password : \")\n",
    "\n",
    "    if _username == username and _password == password:\n",
    "        print(\"Anda Berhasil Login\")\n",
    "        break\n",
    "    else:\n",
    "        print(\"Username atau password salah\")\n",
    "        print(\"Sisa percobaan \", percobaan, \"/3\")\n",
    "        percobaan += 1\n",
    "        \n",
    "else:\n",
    "    print(\"Login dibatalkan. Terima Kasih\")\n"
   ]
  },
  {
   "cell_type": "raw",
   "id": "fdb7808a",
   "metadata": {},
   "source": [
    "8.\tSeorang Matematikawan bernama “GILANG KA” mengemukakan penemuannya terhadap penjumlahan kuadrat bilangan Bulat yang dia sebut \"O..Bulat\". Bilangan kuadrat disebut juga bilangan pangkat dua. Matematikawan tersebut kebingungan menyusun suatu algoritma untuk menghitung Jumlah Kuadrat dari Bilangan Bulat dari 1 sampai dengan N, yang kemudian menampilkan hasilnya. Tugas anda adalah membuat algoritma tersebut untuk membantu Matematikawan ”GILANG KA” dalam menentukan jumlah kuadrat ini.\n",
    "Input : inputan pertama diisi dengan Banyaknya Bilangan (N)\n",
    "Output : Jumlah Kuadrat\n",
    "Contoh :\n",
    "N = 3,\n",
    "Maka outputnya adalah Jumlah Kuadrat = 14.\n"
   ]
  },
  {
   "cell_type": "code",
   "execution_count": 14,
   "id": "8e370270",
   "metadata": {},
   "outputs": [
    {
     "name": "stdout",
     "output_type": "stream",
     "text": [
      "Masukkan banyak bilangan (N) : 3\n",
      "Jumlah kuadrat =  14\n"
     ]
    }
   ],
   "source": [
    "n = int(input(\"Masukkan banyak bilangan (N) : \"))\n",
    "i = 1\n",
    "jlh = 0\n",
    "while i <= n:\n",
    "    jlh = jlh + (i * i)\n",
    "    i += 1\n",
    "    \n",
    "print(\"Jumlah kuadrat = \", jlh)"
   ]
  },
  {
   "cell_type": "raw",
   "id": "4ab5c122",
   "metadata": {},
   "source": [
    "9.\tDiberikan string dengan Python. Buat Program python untuk memeriksa apakah string tersebut memiliki setidaknya satu huruf (karakter) dan satu angka. Kembalikan \"True\" jika string yang diberikan kondisinya terpenuhi jika kondisi lain mengembalikan \"False\".\n",
    "\n",
    "Input: penangananCOVID-19diIndonesia\n",
    "Output: True\n",
    "\n",
    "Input: PenyakitVirusCorona\n",
    "Output: False\n"
   ]
  },
  {
   "cell_type": "code",
   "execution_count": 35,
   "id": "4fdf635b",
   "metadata": {},
   "outputs": [
    {
     "name": "stdout",
     "output_type": "stream",
     "text": [
      "Masukkan string panjang : PenyakitVirusCorona\n",
      "False\n"
     ]
    }
   ],
   "source": [
    "a = input(\"Masukkan string panjang : \")\n",
    "b = list(a)\n",
    "i = 0\n",
    "while i <= (len(b) - 1):\n",
    "    if b[i].isdigit() == True:\n",
    "        print(\"True\")\n",
    "        break\n",
    "    i += 1\n",
    "else:\n",
    "    print(\"False\")"
   ]
  },
  {
   "cell_type": "raw",
   "id": "7271acb7",
   "metadata": {},
   "source": [
    "10.\tDiberikan sebuah string. Buat Program python untuk memeriksa apakah kata yang diinputkan itu simetris dan palindrom atau tidak. Sebuah string dikatakan simetris jika kedua bagian dari string itu sama dan string dikatakan string palindrome jika salah satu setengah dari string itu kebalikan dari setengah lainnya atau jika string tampak sama saat dibaca maju atau ke belakang.\n",
    "\n",
    "Input: khokho\n",
    "Output: \n",
    "khokho is symmetrical\n",
    "khokho is not palindrome\n",
    "\n",
    "Input:amaama\n",
    "Output:\n",
    "amaama is symmetrical\n",
    "amaama is palindrome\n"
   ]
  },
  {
   "cell_type": "code",
   "execution_count": 44,
   "id": "064190c9",
   "metadata": {},
   "outputs": [
    {
     "name": "stdout",
     "output_type": "stream",
     "text": [
      "Masukkan kata : katak\n",
      "katak is not symmetrical\n",
      "katak is palindrome\n"
     ]
    }
   ],
   "source": [
    "kata = str(input(\"Masukkan kata : \"))\n",
    "b = list(kata)\n",
    "\n",
    "_tampung = len(kata)\n",
    "if _tampung % 2 != 0:\n",
    "    print(kata, \"is not symmetrical\")\n",
    "else:\n",
    "    i = 0\n",
    "    \n",
    "    list1 = \"\"\n",
    "    while i <= ((_tampung / 2) - 1):\n",
    "        list1 = list1 + b[i]\n",
    "        i += 1\n",
    "        \n",
    "    list2 = \"\"\n",
    "    while i <= (_tampung - 1):\n",
    "        list2 = list2 + b[i]\n",
    "        i += 1\n",
    "\n",
    "    if list1 == list2:\n",
    "        print(kata, \"is symmetrical\")\n",
    "    else:\n",
    "        print(kata, \"is not symmetrical\")\n",
    "\n",
    "tampung = \"\"\n",
    "listKata = list(kata)\n",
    "jKata = len(kata)\n",
    "jKata = jKata - 1\n",
    "while jKata >= 0:\n",
    "    tampung = tampung + listKata[jKata]\n",
    "    jKata -= 1\n",
    "if kata == tampung:\n",
    "    print(kata, \"is palindrome\");\n",
    "else:\n",
    "    print(kata, \"is not palindrome\")\n"
   ]
  },
  {
   "cell_type": "code",
   "execution_count": null,
   "id": "31b0c1b7",
   "metadata": {},
   "outputs": [],
   "source": []
  },
  {
   "cell_type": "code",
   "execution_count": null,
   "id": "fd613f31",
   "metadata": {},
   "outputs": [],
   "source": []
  }
 ],
 "metadata": {
  "kernelspec": {
   "display_name": "Python 3 (ipykernel)",
   "language": "python",
   "name": "python3"
  },
  "language_info": {
   "codemirror_mode": {
    "name": "ipython",
    "version": 3
   },
   "file_extension": ".py",
   "mimetype": "text/x-python",
   "name": "python",
   "nbconvert_exporter": "python",
   "pygments_lexer": "ipython3",
   "version": "3.9.12"
  }
 },
 "nbformat": 4,
 "nbformat_minor": 5
}
