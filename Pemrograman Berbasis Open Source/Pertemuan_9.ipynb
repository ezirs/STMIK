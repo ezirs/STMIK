{
 "cells": [
  {
   "cell_type": "code",
   "execution_count": null,
   "id": "417452ee",
   "metadata": {},
   "outputs": [],
   "source": [
    "def pangkat(a, b):\n",
    "    if b == 1:\n",
    "        return a\n",
    "    else:\n",
    "        return a * pangkat(a, b - 1)\n",
    "print(pangkat(2, 5))"
   ]
  },
  {
   "cell_type": "code",
   "execution_count": null,
   "id": "f69af0a8",
   "metadata": {},
   "outputs": [],
   "source": [
    "def kali(a, b):\n",
    "    if b == 1:\n",
    "        return a\n",
    "    else:\n",
    "        return a + kali(a, b - 1)\n",
    "print(kali(2, 4))"
   ]
  },
  {
   "cell_type": "code",
   "execution_count": null,
   "id": "45f7cf16",
   "metadata": {},
   "outputs": [],
   "source": [
    "def faktorial(n):\n",
    "    if n == 1:\n",
    "        return 1\n",
    "    else:\n",
    "        return n * faktorial(n - 1)\n",
    "print(faktorial(5))"
   ]
  },
  {
   "cell_type": "code",
   "execution_count": null,
   "id": "8b2e8a85",
   "metadata": {
    "scrolled": true
   },
   "outputs": [],
   "source": [
    "import ModulRekursif as M\n",
    "\n",
    "a = int(input(\"Masukkan nilai a : \"))\n",
    "b = int(input(\"Masukkan nilai b : \"))\n",
    "\n",
    "print(\"Pangkat : %s\" % M.pangkat(a, b))\n",
    "print(\"Kali : %s\" % M.kali(a, b))"
   ]
  },
  {
   "cell_type": "code",
   "execution_count": 2,
   "id": "89135267",
   "metadata": {},
   "outputs": [
    {
     "name": "stdout",
     "output_type": "stream",
     "text": [
      "50\n"
     ]
    }
   ],
   "source": [
    "luas = lambda p, l : p * l\n",
    "p = 10\n",
    "l = 5\n",
    "print(luas(p, l))"
   ]
  },
  {
   "cell_type": "code",
   "execution_count": 3,
   "id": "e276ba9b",
   "metadata": {},
   "outputs": [
    {
     "name": "stdout",
     "output_type": "stream",
     "text": [
      "125\n",
      "125\n"
     ]
    }
   ],
   "source": [
    "def cube(y):\n",
    "    return y * y * y\n",
    "\n",
    "lambda_cube = lambda y : y * y * y\n",
    "\n",
    "print(cube(5))\n",
    "print(lambda_cube(5))"
   ]
  },
  {
   "cell_type": "code",
   "execution_count": 5,
   "id": "3a6ca308",
   "metadata": {},
   "outputs": [
    {
     "name": "stdout",
     "output_type": "stream",
     "text": [
      "29\n"
     ]
    }
   ],
   "source": [
    "hasil = (lambda x, y : x ** 2 + y ** 2) (5, 2)\n",
    "print(hasil)"
   ]
  }
 ],
 "metadata": {
  "kernelspec": {
   "display_name": "Python 3 (ipykernel)",
   "language": "python",
   "name": "python3"
  },
  "language_info": {
   "codemirror_mode": {
    "name": "ipython",
    "version": 3
   },
   "file_extension": ".py",
   "mimetype": "text/x-python",
   "name": "python",
   "nbconvert_exporter": "python",
   "pygments_lexer": "ipython3",
   "version": "3.9.7"
  }
 },
 "nbformat": 4,
 "nbformat_minor": 5
}
